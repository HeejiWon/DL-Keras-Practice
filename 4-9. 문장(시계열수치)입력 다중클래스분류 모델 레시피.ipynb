{
 "cells": [
  {
   "cell_type": "markdown",
   "metadata": {},
   "source": [
    "### 1. 데이터셋 준비"
   ]
  },
  {
   "cell_type": "code",
   "execution_count": 26,
   "metadata": {},
   "outputs": [],
   "source": [
    "from tensorflow.keras.datasets import reuters\n",
    "from tensorflow.keras.preprocessing import sequence\n",
    "from tensorflow.python.keras.utils import np_utils"
   ]
  },
  {
   "cell_type": "code",
   "execution_count": 22,
   "metadata": {},
   "outputs": [],
   "source": [
    "# 로이터에서 제공하는 뉴스와이어 데이터셋\n",
    "\n",
    "# 11,228개의 샘플로 46개의 주제 (0~45)\n",
    "# 정수로 인코되어 있으며, 정수값은 단어의 빈도수를 의미\n",
    "\n",
    "(X_train, y_train), (X_test, y_test) = reuters.load_data(num_words=15000)"
   ]
  },
  {
   "cell_type": "code",
   "execution_count": 23,
   "metadata": {},
   "outputs": [],
   "source": [
    "X_val = X_train[7000:]\n",
    "y_val = y_train[7000:]\n",
    "X_train = X_train[:7000]\n",
    "y_train = y_train[:7000]"
   ]
  },
  {
   "cell_type": "code",
   "execution_count": 24,
   "metadata": {},
   "outputs": [],
   "source": [
    "# 문장 길이 맞추기\n",
    "\n",
    "X_train = sequence.pad_sequences(X_train, maxlen=120)\n",
    "X_val = sequence.pad_sequences(X_val, maxlen=120)\n",
    "X_test = sequence.pad_sequences(X_test, maxlen=120)"
   ]
  },
  {
   "cell_type": "code",
   "execution_count": 27,
   "metadata": {},
   "outputs": [],
   "source": [
    "# one-hot 인코딩\n",
    "\n",
    "y_train = np_utils.to_categorical(y_train)\n",
    "y_val = np_utils.to_categorical(y_val)\n",
    "y_test = np_utils.to_categorical(y_test)"
   ]
  },
  {
   "cell_type": "markdown",
   "metadata": {},
   "source": [
    "### 2. 모델 준비"
   ]
  },
  {
   "cell_type": "markdown",
   "metadata": {},
   "source": [
    "#### 1) 다층퍼셉트론 신경망 모델"
   ]
  },
  {
   "cell_type": "code",
   "execution_count": 28,
   "metadata": {},
   "outputs": [],
   "source": [
    "max_features = 15000\n",
    "text_max_words = 120"
   ]
  },
  {
   "cell_type": "code",
   "execution_count": 47,
   "metadata": {},
   "outputs": [],
   "source": [
    "from tensorflow.keras.models import Sequential\n",
    "from tensorflow.keras.layers import Embedding, Flatten, Dense, LSTM, Dropout\n",
    "from tensorflow.keras.layers import GlobalMaxPooling1D, Conv1D, MaxPooling1D"
   ]
  },
  {
   "cell_type": "code",
   "execution_count": 29,
   "metadata": {},
   "outputs": [],
   "source": [
    "model = Sequential()\n",
    "model.add(Embedding(max_features, 128, input_length=text_max_words))\n",
    "    # input_dim : 단어 사전의 크기, output_dim : 임베딩 벡터 크기\n",
    "    # input_length : 문장의 길이 (다음 층이 플래틍 레이터라면 반드시 지정해야)\n",
    "model.add(Flatten())\n",
    "model.add(Dense(256, activation='relu'))\n",
    "model.add(Dense(46, activation='softmax'))"
   ]
  },
  {
   "cell_type": "code",
   "execution_count": 30,
   "metadata": {},
   "outputs": [],
   "source": [
    "model.compile(loss='categorical_crossentropy', optimizer='adam', metrics=['accuracy'])"
   ]
  },
  {
   "cell_type": "code",
   "execution_count": 31,
   "metadata": {
    "scrolled": true
   },
   "outputs": [
    {
     "name": "stdout",
     "output_type": "stream",
     "text": [
      "Epoch 1/10\n",
      "110/110 [==============================] - 5s 47ms/step - loss: 1.9299 - accuracy: 0.5236 - val_loss: 1.4704 - val_accuracy: 0.6534\n",
      "Epoch 2/10\n",
      "110/110 [==============================] - 5s 45ms/step - loss: 0.8617 - accuracy: 0.8067 - val_loss: 1.2952 - val_accuracy: 0.6978\n",
      "Epoch 3/10\n",
      "110/110 [==============================] - 5s 45ms/step - loss: 0.2803 - accuracy: 0.9493 - val_loss: 1.3617 - val_accuracy: 0.6927\n",
      "Epoch 4/10\n",
      "110/110 [==============================] - 5s 47ms/step - loss: 0.1849 - accuracy: 0.9607 - val_loss: 1.3550 - val_accuracy: 0.6983\n",
      "Epoch 5/10\n",
      "110/110 [==============================] - 5s 46ms/step - loss: 0.1471 - accuracy: 0.9620 - val_loss: 1.4060 - val_accuracy: 0.6806\n",
      "Epoch 6/10\n",
      "110/110 [==============================] - 5s 46ms/step - loss: 0.1264 - accuracy: 0.9643 - val_loss: 1.4064 - val_accuracy: 0.6958\n",
      "Epoch 7/10\n",
      "110/110 [==============================] - 5s 46ms/step - loss: 0.1208 - accuracy: 0.9633 - val_loss: 1.4701 - val_accuracy: 0.6806\n",
      "Epoch 8/10\n",
      "110/110 [==============================] - 5s 46ms/step - loss: 0.1137 - accuracy: 0.9637 - val_loss: 1.3958 - val_accuracy: 0.7013\n",
      "Epoch 9/10\n",
      "110/110 [==============================] - 5s 47ms/step - loss: 0.1034 - accuracy: 0.9650 - val_loss: 1.3639 - val_accuracy: 0.7003\n",
      "Epoch 10/10\n",
      "110/110 [==============================] - 5s 47ms/step - loss: 0.0972 - accuracy: 0.9631 - val_loss: 1.4578 - val_accuracy: 0.6942\n"
     ]
    }
   ],
   "source": [
    "hist = model.fit(X_train, y_train, epochs=10, batch_size=64, validation_data=(X_val, y_val))"
   ]
  },
  {
   "cell_type": "code",
   "execution_count": 32,
   "metadata": {},
   "outputs": [],
   "source": [
    "%matplotlib inline\n",
    "import matplotlib.pyplot as plt"
   ]
  },
  {
   "cell_type": "code",
   "execution_count": 33,
   "metadata": {},
   "outputs": [
    {
     "data": {
      "image/png": "[encoded data removed]",
      "text/plain": [
       "<Figure size 432x288 with 2 Axes>"
      ]
     },
     "metadata": {
      "needs_background": "light"
     },
     "output_type": "display_data"
    }
   ],
   "source": [
    "fig, loss_ax = plt.subplots()\n",
    "acc_ax = loss_ax.twinx()\n",
    "\n",
    "loss_ax.plot(hist.history['loss'], 'y', label='train loss')\n",
    "loss_ax.plot(hist.history['val_loss'], 'r', label='val loss')\n",
    "loss_ax.set_ylim([0.0, 3.0])\n",
    "\n",
    "acc_ax.plot(hist.history['accuracy'], 'b', label='train accuracy')\n",
    "acc_ax.plot(hist.history['val_accuracy'], 'g', label='val accuracy')\n",
    "acc_ax.set_ylim([0.0, 1.0])\n",
    "\n",
    "loss_ax.set_xlabel('epoch')\n",
    "loss_ax.set_ylabel('loss')\n",
    "acc_ax.set_ylabel('accuracy')\n",
    "\n",
    "loss_ax.legend(loc='upper left')\n",
    "acc_ax.legend(loc='lower left')\n",
    "\n",
    "plt.show()"
   ]
  },
  {
   "cell_type": "code",
   "execution_count": 34,
   "metadata": {},
   "outputs": [
    {
     "name": "stdout",
     "output_type": "stream",
     "text": [
      "36/36 [==============================] - 0s 6ms/step - loss: 1.4660 - accuracy: 0.6834\n",
      "## evaluation loss and metrics ##\n",
      "[1.4660457372665405, 0.6834372282028198]\n"
     ]
    }
   ],
   "source": [
    "loss_and_metrics = model.evaluate(X_test, y_test, batch_size=64)\n",
    "print('## evaluation loss and metrics ##')\n",
    "print(loss_and_metrics)"
   ]
  },
  {
   "cell_type": "markdown",
   "metadata": {},
   "source": [
    "#### 2) 순환 신경망 모델"
   ]
  },
  {
   "cell_type": "code",
   "execution_count": 35,
   "metadata": {},
   "outputs": [],
   "source": [
    "model = Sequential()\n",
    "model.add(Embedding(max_features, 128))\n",
    "model.add(LSTM(128))\n",
    "model.add(Dense(46, activation='softmax'))"
   ]
  },
  {
   "cell_type": "code",
   "execution_count": 36,
   "metadata": {},
   "outputs": [],
   "source": [
    "model.compile(loss='categorical_crossentropy', optimizer='adam', metrics=['accuracy'])"
   ]
  },
  {
   "cell_type": "code",
   "execution_count": 37,
   "metadata": {},
   "outputs": [
    {
     "name": "stdout",
     "output_type": "stream",
     "text": [
      "Epoch 1/10\n",
      "110/110 [==============================] - 16s 149ms/step - loss: 2.5170 - accuracy: 0.3680 - val_loss: 2.1448 - val_accuracy: 0.4733\n",
      "Epoch 2/10\n",
      "110/110 [==============================] - 16s 148ms/step - loss: 1.9272 - accuracy: 0.4963 - val_loss: 1.7614 - val_accuracy: 0.5343\n",
      "Epoch 3/10\n",
      "110/110 [==============================] - 20s 179ms/step - loss: 1.7706 - accuracy: 0.5221 - val_loss: 1.7477 - val_accuracy: 0.5373\n",
      "Epoch 4/10\n",
      "110/110 [==============================] - 25s 226ms/step - loss: 1.6041 - accuracy: 0.5771 - val_loss: 1.5991 - val_accuracy: 0.5898\n",
      "Epoch 5/10\n",
      "110/110 [==============================] - 21s 194ms/step - loss: 1.4184 - accuracy: 0.6297 - val_loss: 1.5525 - val_accuracy: 0.6090\n",
      "Epoch 6/10\n",
      "110/110 [==============================] - 20s 180ms/step - loss: 1.2124 - accuracy: 0.6833 - val_loss: 1.4646 - val_accuracy: 0.6342\n",
      "Epoch 7/10\n",
      "110/110 [==============================] - 19s 177ms/step - loss: 0.9885 - accuracy: 0.7447 - val_loss: 1.4731 - val_accuracy: 0.6458\n",
      "Epoch 8/10\n",
      "110/110 [==============================] - 21s 188ms/step - loss: 0.8017 - accuracy: 0.7921 - val_loss: 1.4035 - val_accuracy: 0.6837\n",
      "Epoch 9/10\n",
      "110/110 [==============================] - 26s 235ms/step - loss: 0.6635 - accuracy: 0.8267 - val_loss: 1.4529 - val_accuracy: 0.6776\n",
      "Epoch 10/10\n",
      "110/110 [==============================] - 22s 201ms/step - loss: 0.5295 - accuracy: 0.8651 - val_loss: 1.5111 - val_accuracy: 0.6665\n"
     ]
    }
   ],
   "source": [
    "hist = model.fit(X_train, y_train, epochs=10, batch_size=64, validation_data=(X_val, y_val))"
   ]
  },
  {
   "cell_type": "code",
   "execution_count": 38,
   "metadata": {},
   "outputs": [
    {
     "data": {
      "image/png": "[encoded data removed]",
      "text/plain": [
       "<Figure size 432x288 with 2 Axes>"
      ]
     },
     "metadata": {
      "needs_background": "light"
     },
     "output_type": "display_data"
    }
   ],
   "source": [
    "fig, loss_ax = plt.subplots()\n",
    "acc_ax = loss_ax.twinx()\n",
    "\n",
    "loss_ax.plot(hist.history['loss'], 'y', label='train loss')\n",
    "loss_ax.plot(hist.history['val_loss'], 'r', label='val loss')\n",
    "loss_ax.set_ylim([0.0, 3.0])\n",
    "\n",
    "acc_ax.plot(hist.history['accuracy'], 'b', label='train accuracy')\n",
    "acc_ax.plot(hist.history['val_accuracy'], 'g', label='val accuracy')\n",
    "acc_ax.set_ylim([0.0, 1.0])\n",
    "\n",
    "loss_ax.set_xlabel('epoch')\n",
    "loss_ax.set_ylabel('loss')\n",
    "acc_ax.set_ylabel('accuracy')\n",
    "\n",
    "loss_ax.legend(loc='upper left')\n",
    "acc_ax.legend(loc='lower left')\n",
    "\n",
    "plt.show()"
   ]
  },
  {
   "cell_type": "code",
   "execution_count": 39,
   "metadata": {},
   "outputs": [
    {
     "name": "stdout",
     "output_type": "stream",
     "text": [
      "36/36 [==============================] - 2s 47ms/step - loss: 1.6324 - accuracy: 0.6474\n",
      "## evaluation loss and metrics ##\n",
      "[1.6324241161346436, 0.6473730802536011]\n"
     ]
    }
   ],
   "source": [
    "loss_and_metrics = model.evaluate(X_test, y_test, batch_size=64)\n",
    "print('## evaluation loss and metrics ##')\n",
    "print(loss_and_metrics)"
   ]
  },
  {
   "cell_type": "markdown",
   "metadata": {},
   "source": [
    "#### 3) 컨볼루션 신경망 모델"
   ]
  },
  {
   "cell_type": "code",
   "execution_count": 40,
   "metadata": {},
   "outputs": [],
   "source": [
    "model = Sequential()\n",
    "model.add(Embedding(max_features, 128, input_length=text_max_words))\n",
    "model.add(Dropout(0.2))\n",
    "model.add(Conv1D(256, 3, padding='valid', activation='relu', strides=1))\n",
    "model.add(GlobalMaxPooling1D())\n",
    "model.add(Dense(128, activation='relu'))\n",
    "model.add(Dropout(0.2))\n",
    "model.add(Dense(46, activation='softmax'))"
   ]
  },
  {
   "cell_type": "code",
   "execution_count": 41,
   "metadata": {},
   "outputs": [],
   "source": [
    "model.compile(loss='categorical_crossentropy', optimizer='adam', metrics=['accuracy'])"
   ]
  },
  {
   "cell_type": "code",
   "execution_count": 42,
   "metadata": {},
   "outputs": [
    {
     "name": "stdout",
     "output_type": "stream",
     "text": [
      "Epoch 1/10\n",
      "110/110 [==============================] - 8s 75ms/step - loss: 2.2299 - accuracy: 0.4539 - val_loss: 1.7454 - val_accuracy: 0.5429\n",
      "Epoch 2/10\n",
      "110/110 [==============================] - 8s 73ms/step - loss: 1.5595 - accuracy: 0.6247 - val_loss: 1.3455 - val_accuracy: 0.6867\n",
      "Epoch 3/10\n",
      "110/110 [==============================] - 8s 72ms/step - loss: 1.2169 - accuracy: 0.7123 - val_loss: 1.1844 - val_accuracy: 0.7215\n",
      "Epoch 4/10\n",
      "110/110 [==============================] - 8s 74ms/step - loss: 0.9949 - accuracy: 0.7570 - val_loss: 1.1092 - val_accuracy: 0.7442\n",
      "Epoch 5/10\n",
      "110/110 [==============================] - 11s 101ms/step - loss: 0.8007 - accuracy: 0.8027 - val_loss: 1.0695 - val_accuracy: 0.7533\n",
      "Epoch 6/10\n",
      "110/110 [==============================] - 13s 115ms/step - loss: 0.6109 - accuracy: 0.8483 - val_loss: 1.0348 - val_accuracy: 0.7639\n",
      "Epoch 7/10\n",
      "110/110 [==============================] - 14s 128ms/step - loss: 0.4502 - accuracy: 0.8840 - val_loss: 1.0659 - val_accuracy: 0.7664\n",
      "Epoch 8/10\n",
      "110/110 [==============================] - 14s 124ms/step - loss: 0.3357 - accuracy: 0.9131 - val_loss: 1.1567 - val_accuracy: 0.7588\n",
      "Epoch 9/10\n",
      "110/110 [==============================] - 12s 106ms/step - loss: 0.2809 - accuracy: 0.9304 - val_loss: 1.1710 - val_accuracy: 0.7629\n",
      "Epoch 10/10\n",
      "110/110 [==============================] - 11s 97ms/step - loss: 0.2195 - accuracy: 0.9431 - val_loss: 1.2445 - val_accuracy: 0.7659\n"
     ]
    }
   ],
   "source": [
    "hist = model.fit(X_train, y_train, epochs=10, batch_size=64, validation_data=(X_val, y_val))"
   ]
  },
  {
   "cell_type": "code",
   "execution_count": 43,
   "metadata": {},
   "outputs": [
    {
     "data": {
      "image/png": "[encoded data removed]",
      "text/plain": [
       "<Figure size 432x288 with 2 Axes>"
      ]
     },
     "metadata": {
      "needs_background": "light"
     },
     "output_type": "display_data"
    }
   ],
   "source": [
    "fig, loss_ax = plt.subplots()\n",
    "acc_ax = loss_ax.twinx()\n",
    "\n",
    "loss_ax.plot(hist.history['loss'], 'y', label='train loss')\n",
    "loss_ax.plot(hist.history['val_loss'], 'r', label='val loss')\n",
    "loss_ax.set_ylim([0.0, 3.0])\n",
    "\n",
    "acc_ax.plot(hist.history['accuracy'], 'b', label='train accuracy')\n",
    "acc_ax.plot(hist.history['val_accuracy'], 'g', label='val accuracy')\n",
    "acc_ax.set_ylim([0.0, 1.0])\n",
    "\n",
    "loss_ax.set_xlabel('epoch')\n",
    "loss_ax.set_ylabel('loss')\n",
    "acc_ax.set_ylabel('accuracy')\n",
    "\n",
    "loss_ax.legend(loc='upper left')\n",
    "acc_ax.legend(loc='lower left')\n",
    "\n",
    "plt.show()"
   ]
  },
  {
   "cell_type": "code",
   "execution_count": 44,
   "metadata": {},
   "outputs": [
    {
     "name": "stdout",
     "output_type": "stream",
     "text": [
      "36/36 [==============================] - 1s 14ms/step - loss: 1.3003 - accuracy: 0.7587\n",
      "## evaluation loss and metrics ##\n",
      "[1.3003168106079102, 0.7586820721626282]\n"
     ]
    }
   ],
   "source": [
    "loss_and_metrics = model.evaluate(X_test, y_test, batch_size=64)\n",
    "print('## evaluation loss and metrics ##')\n",
    "print(loss_and_metrics)"
   ]
  },
  {
   "cell_type": "markdown",
   "metadata": {},
   "source": [
    "#### 4) 순환 컨볼루션 신경망 모델"
   ]
  },
  {
   "cell_type": "code",
   "execution_count": 48,
   "metadata": {},
   "outputs": [],
   "source": [
    "model = Sequential()\n",
    "model.add(Embedding(max_features, 128, input_length=text_max_words))\n",
    "model.add(Dropout(0.2))\n",
    "model.add(Conv1D(256, 3, padding='valid', activation='relu', strides=1))\n",
    "model.add(MaxPooling1D(pool_size=(4)))\n",
    "model.add(LSTM(128))\n",
    "model.add(Dense(46, activation='softmax'))"
   ]
  },
  {
   "cell_type": "code",
   "execution_count": 49,
   "metadata": {},
   "outputs": [],
   "source": [
    "model.compile(loss='categorical_crossentropy', optimizer='adam', metrics=['accuracy'])"
   ]
  },
  {
   "cell_type": "code",
   "execution_count": 50,
   "metadata": {},
   "outputs": [
    {
     "name": "stdout",
     "output_type": "stream",
     "text": [
      "Epoch 1/10\n",
      "110/110 [==============================] - 12s 112ms/step - loss: 2.1584 - accuracy: 0.4587 - val_loss: 1.7677 - val_accuracy: 0.5348\n",
      "Epoch 2/10\n",
      "110/110 [==============================] - 12s 108ms/step - loss: 1.5871 - accuracy: 0.6011 - val_loss: 1.4714 - val_accuracy: 0.6337\n",
      "Epoch 3/10\n",
      "110/110 [==============================] - 12s 110ms/step - loss: 1.2489 - accuracy: 0.6874 - val_loss: 1.3630 - val_accuracy: 0.6569\n",
      "Epoch 4/10\n",
      "110/110 [==============================] - 18s 164ms/step - loss: 1.0123 - accuracy: 0.7426 - val_loss: 1.2798 - val_accuracy: 0.6867\n",
      "Epoch 5/10\n",
      "110/110 [==============================] - 25s 224ms/step - loss: 0.8346 - accuracy: 0.7913 - val_loss: 1.2813 - val_accuracy: 0.7028\n",
      "Epoch 6/10\n",
      "110/110 [==============================] - 17s 159ms/step - loss: 0.6886 - accuracy: 0.8237 - val_loss: 1.2939 - val_accuracy: 0.7028\n",
      "Epoch 7/10\n",
      "110/110 [==============================] - 14s 129ms/step - loss: 0.5709 - accuracy: 0.8556 - val_loss: 1.3173 - val_accuracy: 0.6907\n",
      "Epoch 8/10\n",
      "110/110 [==============================] - 14s 123ms/step - loss: 0.4763 - accuracy: 0.8791 - val_loss: 1.3340 - val_accuracy: 0.6998\n",
      "Epoch 9/10\n",
      "110/110 [==============================] - 15s 133ms/step - loss: 0.3973 - accuracy: 0.8989 - val_loss: 1.3688 - val_accuracy: 0.7013\n",
      "Epoch 10/10\n",
      "110/110 [==============================] - 16s 141ms/step - loss: 0.3339 - accuracy: 0.9170 - val_loss: 1.4115 - val_accuracy: 0.7013\n"
     ]
    }
   ],
   "source": [
    "hist = model.fit(X_train, y_train, epochs=10, batch_size=64, validation_data=(X_val, y_val))"
   ]
  },
  {
   "cell_type": "code",
   "execution_count": 51,
   "metadata": {},
   "outputs": [
    {
     "data": {
      "image/png": "[encoded data removed]",
      "text/plain": [
       "<Figure size 432x288 with 2 Axes>"
      ]
     },
     "metadata": {
      "needs_background": "light"
     },
     "output_type": "display_data"
    }
   ],
   "source": [
    "fig, loss_ax = plt.subplots()\n",
    "acc_ax = loss_ax.twinx()\n",
    "\n",
    "loss_ax.plot(hist.history['loss'], 'y', label='train loss')\n",
    "loss_ax.plot(hist.history['val_loss'], 'r', label='val loss')\n",
    "loss_ax.set_ylim([0.0, 3.0])\n",
    "\n",
    "acc_ax.plot(hist.history['accuracy'], 'b', label='train accuracy')\n",
    "acc_ax.plot(hist.history['val_accuracy'], 'g', label='val accuracy')\n",
    "acc_ax.set_ylim([0.0, 1.0])\n",
    "\n",
    "loss_ax.set_xlabel('epoch')\n",
    "loss_ax.set_ylabel('loss')\n",
    "acc_ax.set_ylabel('accuracy')\n",
    "\n",
    "loss_ax.legend(loc='upper left')\n",
    "acc_ax.legend(loc='lower left')\n",
    "\n",
    "plt.show()"
   ]
  },
  {
   "cell_type": "code",
   "execution_count": 52,
   "metadata": {},
   "outputs": [
    {
     "name": "stdout",
     "output_type": "stream",
     "text": [
      "36/36 [==============================] - 1s 32ms/step - loss: 1.5073 - accuracy: 0.6763\n",
      "## evaluation loss and metrics ##\n",
      "[1.5073388814926147, 0.6763134598731995]\n"
     ]
    }
   ],
   "source": [
    "loss_and_metrics = model.evaluate(X_test, y_test, batch_size=64)\n",
    "print('## evaluation loss and metrics ##')\n",
    "print(loss_and_metrics)"
   ]
  },
  {
   "cell_type": "code",
   "execution_count": null,
   "metadata": {},
   "outputs": [],
   "source": []
  }
 ],
 "metadata": {
  "kernelspec": {
   "display_name": "Python 3",
   "language": "python",
   "name": "python3"
  },
  "language_info": {
   "codemirror_mode": {
    "name": "ipython",
    "version": 3
   },
   "file_extension": ".py",
   "mimetype": "text/x-python",
   "name": "python",
   "nbconvert_exporter": "python",
   "pygments_lexer": "ipython3",
   "version": "3.7.7"
  }
 },
 "nbformat": 4,
 "nbformat_minor": 4
}
